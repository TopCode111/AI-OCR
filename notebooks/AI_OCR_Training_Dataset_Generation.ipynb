{
  "cells": [
    {
      "cell_type": "markdown",
      "metadata": {
        "id": "vL1TaYIrm620"
      },
      "source": [
        "#AI-OCR Training Dataset Generation"
      ]
    },
    {
      "cell_type": "markdown",
      "metadata": {
        "id": "zX0YLHyIoj-e"
      },
      "source": [
        "### Accessories"
      ]
    },
    {
      "cell_type": "code",
      "execution_count": null,
      "metadata": {
        "id": "iLvftiQSn3kE"
      },
      "outputs": [],
      "source": [
        "# get data from google drive\n",
        "from google.colab import drive\n",
        "drive.mount('/content/drive')"
      ]
    },
    {
      "cell_type": "code",
      "execution_count": null,
      "metadata": {
        "id": "V5LvXALic28A"
      },
      "outputs": [],
      "source": [
        "# Unzip the file- Change the directory according to the training directory\n",
        "!unzip \"/content/New_folder.zip\" -d 'new_file'"
      ]
    },
    {
      "cell_type": "markdown",
      "metadata": {
        "id": "7wZJCJgdnHBz"
      },
      "source": [
        "## Importing all packages"
      ]
    },
    {
      "cell_type": "code",
      "execution_count": 46,
      "metadata": {
        "id": "72bhB73anJxG"
      },
      "outputs": [],
      "source": [
        "import os\n",
        "import pandas as pd"
      ]
    },
    {
      "cell_type": "markdown",
      "metadata": {
        "id": "Bhd6WUtuofd2"
      },
      "source": [
        "### Preparing training data"
      ]
    },
    {
      "cell_type": "code",
      "execution_count": null,
      "metadata": {
        "id": "kPFP7BRgi_ui"
      },
      "outputs": [],
      "source": [
        "BASE_DIR = '/content/New_folder/'       # Base directory of the unzip folder\n",
        "training_images_names = []     \n",
        "training_text_data = []\n",
        "\n",
        "training_files = os.listdir(BASE_DIR)\n",
        "\n",
        "for training_file in training_files:\n",
        "  if training_file.endswith(('.jpg', '.png', 'jpeg', 'tif')):\n",
        "    image_name_no_extension = training_file.split('.')[0]\n",
        "    training_text_file = image_name_no_extension + '.gt.txt'\n",
        "    training_text_file_directory = BASE_DIR + training_text_file\n",
        "    print(training_text_file_directory)\n",
        "    if os.path.isfile(training_text_file_directory):\n",
        "      with open(training_text_file_directory) as f:\n",
        "        training_images_names.append(training_file)\n",
        "        training_text_data.append(f.read())\n",
        "    else:\n",
        "      pass\n",
        "      #print (\"text File does not exist!\")    "
      ]
    },
    {
      "cell_type": "code",
      "execution_count": 54,
      "metadata": {
        "id": "U6IYDssBl1Y4"
      },
      "outputs": [],
      "source": [
        "training_data = pd.DataFrame()\n",
        "training_data['filename'] = training_images_names\n",
        "training_data['words'] = training_text_data\n",
        "\n",
        "# Save the training data to csv\n",
        "training_data.to_csv('training_data.csv', encoding = 'utf-8', index = False)"
      ]
    },
    {
      "cell_type": "code",
      "execution_count": 55,
      "metadata": {
        "colab": {
          "base_uri": "https://localhost:8080/",
          "height": 206
        },
        "id": "_P0ZiQnHrU9w",
        "outputId": "6c9813a8-57b0-43e9-98fe-6e6e038d6584"
      },
      "outputs": [
        {
          "data": {
            "text/html": [
              "\n",
              "  <div id=\"df-8ce0ae01-8d12-45f4-9388-626e6d33f979\">\n",
              "    <div class=\"colab-df-container\">\n",
              "      <div>\n",
              "<style scoped>\n",
              "    .dataframe tbody tr th:only-of-type {\n",
              "        vertical-align: middle;\n",
              "    }\n",
              "\n",
              "    .dataframe tbody tr th {\n",
              "        vertical-align: top;\n",
              "    }\n",
              "\n",
              "    .dataframe thead th {\n",
              "        text-align: right;\n",
              "    }\n",
              "</style>\n",
              "<table border=\"1\" class=\"dataframe\">\n",
              "  <thead>\n",
              "    <tr style=\"text-align: right;\">\n",
              "      <th></th>\n",
              "      <th>filename</th>\n",
              "      <th>words</th>\n",
              "    </tr>\n",
              "  </thead>\n",
              "  <tbody>\n",
              "    <tr>\n",
              "      <th>0</th>\n",
              "      <td>tate001_20211203101858_00014_page_1_character_...</td>\n",
              "      <td>チ</td>\n",
              "    </tr>\n",
              "    <tr>\n",
              "      <th>1</th>\n",
              "      <td>tate002_20211203103145_00009_page_2_character_...</td>\n",
              "      <td>枇</td>\n",
              "    </tr>\n",
              "    <tr>\n",
              "      <th>2</th>\n",
              "      <td>tate003_20211203103651_00002_page_1_character_...</td>\n",
              "      <td>回</td>\n",
              "    </tr>\n",
              "    <tr>\n",
              "      <th>3</th>\n",
              "      <td>tate003_20211203103651_00001_page_1_character_...</td>\n",
              "      <td>迂</td>\n",
              "    </tr>\n",
              "    <tr>\n",
              "      <th>4</th>\n",
              "      <td>tate003_20211203103651_00004_page_2_character_...</td>\n",
              "      <td>柵</td>\n",
              "    </tr>\n",
              "  </tbody>\n",
              "</table>\n",
              "</div>\n",
              "      <button class=\"colab-df-convert\" onclick=\"convertToInteractive('df-8ce0ae01-8d12-45f4-9388-626e6d33f979')\"\n",
              "              title=\"Convert this dataframe to an interactive table.\"\n",
              "              style=\"display:none;\">\n",
              "        \n",
              "  <svg xmlns=\"http://www.w3.org/2000/svg\" height=\"24px\"viewBox=\"0 0 24 24\"\n",
              "       width=\"24px\">\n",
              "    <path d=\"M0 0h24v24H0V0z\" fill=\"none\"/>\n",
              "    <path d=\"M18.56 5.44l.94 2.06.94-2.06 2.06-.94-2.06-.94-.94-2.06-.94 2.06-2.06.94zm-11 1L8.5 8.5l.94-2.06 2.06-.94-2.06-.94L8.5 2.5l-.94 2.06-2.06.94zm10 10l.94 2.06.94-2.06 2.06-.94-2.06-.94-.94-2.06-.94 2.06-2.06.94z\"/><path d=\"M17.41 7.96l-1.37-1.37c-.4-.4-.92-.59-1.43-.59-.52 0-1.04.2-1.43.59L10.3 9.45l-7.72 7.72c-.78.78-.78 2.05 0 2.83L4 21.41c.39.39.9.59 1.41.59.51 0 1.02-.2 1.41-.59l7.78-7.78 2.81-2.81c.8-.78.8-2.07 0-2.86zM5.41 20L4 18.59l7.72-7.72 1.47 1.35L5.41 20z\"/>\n",
              "  </svg>\n",
              "      </button>\n",
              "      \n",
              "  <style>\n",
              "    .colab-df-container {\n",
              "      display:flex;\n",
              "      flex-wrap:wrap;\n",
              "      gap: 12px;\n",
              "    }\n",
              "\n",
              "    .colab-df-convert {\n",
              "      background-color: #E8F0FE;\n",
              "      border: none;\n",
              "      border-radius: 50%;\n",
              "      cursor: pointer;\n",
              "      display: none;\n",
              "      fill: #1967D2;\n",
              "      height: 32px;\n",
              "      padding: 0 0 0 0;\n",
              "      width: 32px;\n",
              "    }\n",
              "\n",
              "    .colab-df-convert:hover {\n",
              "      background-color: #E2EBFA;\n",
              "      box-shadow: 0px 1px 2px rgba(60, 64, 67, 0.3), 0px 1px 3px 1px rgba(60, 64, 67, 0.15);\n",
              "      fill: #174EA6;\n",
              "    }\n",
              "\n",
              "    [theme=dark] .colab-df-convert {\n",
              "      background-color: #3B4455;\n",
              "      fill: #D2E3FC;\n",
              "    }\n",
              "\n",
              "    [theme=dark] .colab-df-convert:hover {\n",
              "      background-color: #434B5C;\n",
              "      box-shadow: 0px 1px 3px 1px rgba(0, 0, 0, 0.15);\n",
              "      filter: drop-shadow(0px 1px 2px rgba(0, 0, 0, 0.3));\n",
              "      fill: #FFFFFF;\n",
              "    }\n",
              "  </style>\n",
              "\n",
              "      <script>\n",
              "        const buttonEl =\n",
              "          document.querySelector('#df-8ce0ae01-8d12-45f4-9388-626e6d33f979 button.colab-df-convert');\n",
              "        buttonEl.style.display =\n",
              "          google.colab.kernel.accessAllowed ? 'block' : 'none';\n",
              "\n",
              "        async function convertToInteractive(key) {\n",
              "          const element = document.querySelector('#df-8ce0ae01-8d12-45f4-9388-626e6d33f979');\n",
              "          const dataTable =\n",
              "            await google.colab.kernel.invokeFunction('convertToInteractive',\n",
              "                                                     [key], {});\n",
              "          if (!dataTable) return;\n",
              "\n",
              "          const docLinkHtml = 'Like what you see? Visit the ' +\n",
              "            '<a target=\"_blank\" href=https://colab.research.google.com/notebooks/data_table.ipynb>data table notebook</a>'\n",
              "            + ' to learn more about interactive tables.';\n",
              "          element.innerHTML = '';\n",
              "          dataTable['output_type'] = 'display_data';\n",
              "          await google.colab.output.renderOutput(dataTable, element);\n",
              "          const docLink = document.createElement('div');\n",
              "          docLink.innerHTML = docLinkHtml;\n",
              "          element.appendChild(docLink);\n",
              "        }\n",
              "      </script>\n",
              "    </div>\n",
              "  </div>\n",
              "  "
            ],
            "text/plain": [
              "                                            filename words\n",
              "0  tate001_20211203101858_00014_page_1_character_...     チ\n",
              "1  tate002_20211203103145_00009_page_2_character_...     枇\n",
              "2  tate003_20211203103651_00002_page_1_character_...     回\n",
              "3  tate003_20211203103651_00001_page_1_character_...     迂\n",
              "4  tate003_20211203103651_00004_page_2_character_...     柵"
            ]
          },
          "execution_count": 55,
          "metadata": {},
          "output_type": "execute_result"
        }
      ],
      "source": [
        "training_data.head()"
      ]
    },
    {
      "cell_type": "code",
      "execution_count": null,
      "metadata": {
        "id": "JMVaRk5-rWur"
      },
      "outputs": [],
      "source": []
    }
  ],
  "metadata": {
    "colab": {
      "collapsed_sections": [],
      "name": "AI-OCR_Training_Dataset_Generation.ipynb",
      "provenance": []
    },
    "kernelspec": {
      "display_name": "Python 3",
      "name": "python3"
    },
    "language_info": {
      "name": "python"
    }
  },
  "nbformat": 4,
  "nbformat_minor": 0
}
